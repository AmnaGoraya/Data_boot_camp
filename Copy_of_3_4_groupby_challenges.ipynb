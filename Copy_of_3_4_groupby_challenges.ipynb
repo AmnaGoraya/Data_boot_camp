{
  "nbformat": 4,
  "nbformat_minor": 0,
  "metadata": {
    "colab": {
      "provenance": [],
      "include_colab_link": true
    },
    "kernelspec": {
      "name": "python3",
      "display_name": "Python 3"
    },
    "language_info": {
      "name": "python"
    }
  },
  "cells": [
    {
      "cell_type": "markdown",
      "metadata": {
        "id": "view-in-github",
        "colab_type": "text"
      },
      "source": [
        "<a href=\"https://colab.research.google.com/github/AmnaGoraya/Data_boot_camp/blob/main/Copy_of_3_4_groupby_challenges.ipynb\" target=\"_parent\"><img src=\"https://colab.research.google.com/assets/colab-badge.svg\" alt=\"Open In Colab\"/></a>"
      ]
    },
    {
      "cell_type": "markdown",
      "source": [
        "# Grouping and aggregating data\n",
        "\n",
        "Most of the time, in pandas, we use `.groupby()` to group and aggregate data. This is a function that splits your data into certain categories, and then performs an aggregation, transformation, or filtration to those categories. Today we will only be looking at `.groupby()` and aggregations, and how they can help us to analyse our data. We will also learn about `resample()` as an alternative, more concise way to group dates and times.\n",
        "\n",
        "As always, let's start by reading the data:"
      ],
      "metadata": {
        "id": "MGfHi2emuFvJ"
      }
    },
    {
      "cell_type": "code",
      "source": [
        "import pandas as pd"
      ],
      "metadata": {
        "id": "Lq7zsZka4q2m"
      },
      "execution_count": 5,
      "outputs": []
    },
    {
      "cell_type": "code",
      "source": [
        "# orders_cl.csv\n",
        "url = \"https://drive.google.com/file/d/1Tla62vfu__kCqvgypZyVt2S9VuC016yH/view?usp=sharing\"\n",
        "path = \"https://drive.google.com/uc?export=download&id=\"+url.split(\"/\")[-2]\n",
        "orders_cl = pd.read_csv(path)\n",
        "\n",
        "# orderlines_cl.csv\n",
        "url = \"https://drive.google.com/file/d/1OhtkQS2fwOYdzfd-qPh7im35iLc-L9TA/view?usp=sharing\"\n",
        "path = \"https://drive.google.com/uc?export=download&id=\"+url.split(\"/\")[-2]\n",
        "orderlines_cl = pd.read_csv(path)\n",
        "\n",
        "# products_cl.csv\n",
        "url = \"https://drive.google.com/file/d/1s7Lai4NSlsYjGEPg1QSOUJobNYVsZBOJ/view?usp=sharing\"\n",
        "path = \"https://drive.google.com/uc?export=download&id=\"+url.split(\"/\")[-2]\n",
        "products_cl = pd.read_csv(path)\n",
        "\n",
        "# brands_cl.csv\n",
        "url = \"https://drive.google.com/file/d/1XGyabaa4mAkjixMk3XPgx_14OoSse3rs/view?usp=sharing\"\n",
        "path = \"https://drive.google.com/uc?export=download&id=\"+url.split(\"/\")[-2]\n",
        "brands = pd.read_csv(path)"
      ],
      "metadata": {
        "id": "30IJsE7t49Eu"
      },
      "execution_count": 6,
      "outputs": []
    },
    {
      "cell_type": "code",
      "source": [
        "ol_df = orderlines_cl.copy()"
      ],
      "metadata": {
        "id": "97-FGws5RzTk"
      },
      "execution_count": 7,
      "outputs": []
    },
    {
      "cell_type": "code",
      "source": [
        "ol_df.info()"
      ],
      "metadata": {
        "id": "sD3zRjTyk-9h",
        "outputId": "79c3caea-0b68-477c-d221-a26221875b6f",
        "colab": {
          "base_uri": "https://localhost:8080/"
        }
      },
      "execution_count": 8,
      "outputs": [
        {
          "output_type": "stream",
          "name": "stdout",
          "text": [
            "<class 'pandas.core.frame.DataFrame'>\n",
            "RangeIndex: 216250 entries, 0 to 216249\n",
            "Data columns (total 7 columns):\n",
            " #   Column            Non-Null Count   Dtype  \n",
            "---  ------            --------------   -----  \n",
            " 0   id                216250 non-null  int64  \n",
            " 1   id_order          216250 non-null  int64  \n",
            " 2   product_id        216250 non-null  int64  \n",
            " 3   product_quantity  216250 non-null  int64  \n",
            " 4   sku               216250 non-null  object \n",
            " 5   unit_price        216250 non-null  float64\n",
            " 6   date              216250 non-null  object \n",
            "dtypes: float64(1), int64(4), object(2)\n",
            "memory usage: 11.5+ MB\n"
          ]
        }
      ]
    },
    {
      "cell_type": "markdown",
      "source": [
        "Change `date` to datetime."
      ],
      "metadata": {
        "id": "O5JVxtyQnzLV"
      }
    },
    {
      "cell_type": "code",
      "source": [
        "ol_df[\"date\"] = pd.to_datetime(ol_df[\"date\"])"
      ],
      "metadata": {
        "id": "MxwG7CJ9lIQB"
      },
      "execution_count": 9,
      "outputs": []
    },
    {
      "cell_type": "markdown",
      "source": [
        "## 1.&nbsp; `.groupby` a single feature"
      ],
      "metadata": {
        "id": "BXWNhA9C2KsO"
      }
    },
    {
      "cell_type": "markdown",
      "source": [
        "When we use the `.groupby()` method, we always state in the parentheses the name of the column that contains the categories that should be grouped. For example, we are grouping here by the product number (SKU), which will give us one line per sku. `.count()` will tell us how many rows have been condensed into each group."
      ],
      "metadata": {
        "id": "uuxv5HPeUcJp"
      }
    },
    {
      "cell_type": "code",
      "source": [
        "ol_df.groupby(\"sku\").count()"
      ],
      "metadata": {
        "id": "4WAJ97U7Ryp8",
        "outputId": "8608bb9a-0a87-4802-e2b3-4578043d487b",
        "colab": {
          "base_uri": "https://localhost:8080/",
          "height": 455
        }
      },
      "execution_count": 10,
      "outputs": [
        {
          "output_type": "execute_result",
          "data": {
            "text/plain": [
              "           id  id_order  product_id  product_quantity  unit_price  date\n",
              "sku                                                                    \n",
              "8MO0001-A   2         2           2                 2           2     2\n",
              "8MO0003-A   3         3           3                 3           3     3\n",
              "8MO0007    29        29          29                29          29    29\n",
              "8MO0008    30        30          30                30          30    30\n",
              "8MO0009    28        28          28                28          28    28\n",
              "...        ..       ...         ...               ...         ...   ...\n",
              "ZAG0041     2         2           2                 2           2     2\n",
              "ZAG0042     1         1           1                 1           1     1\n",
              "ZEP0007     5         5           5                 5           5     5\n",
              "ZEP0008     1         1           1                 1           1     1\n",
              "par0072    12        12          12                12          12    12\n",
              "\n",
              "[6798 rows x 6 columns]"
            ],
            "text/html": [
              "\n",
              "\n",
              "  <div id=\"df-166b326e-c0d9-4580-b560-13901e7ebd8b\">\n",
              "    <div class=\"colab-df-container\">\n",
              "      <div>\n",
              "<style scoped>\n",
              "    .dataframe tbody tr th:only-of-type {\n",
              "        vertical-align: middle;\n",
              "    }\n",
              "\n",
              "    .dataframe tbody tr th {\n",
              "        vertical-align: top;\n",
              "    }\n",
              "\n",
              "    .dataframe thead th {\n",
              "        text-align: right;\n",
              "    }\n",
              "</style>\n",
              "<table border=\"1\" class=\"dataframe\">\n",
              "  <thead>\n",
              "    <tr style=\"text-align: right;\">\n",
              "      <th></th>\n",
              "      <th>id</th>\n",
              "      <th>id_order</th>\n",
              "      <th>product_id</th>\n",
              "      <th>product_quantity</th>\n",
              "      <th>unit_price</th>\n",
              "      <th>date</th>\n",
              "    </tr>\n",
              "    <tr>\n",
              "      <th>sku</th>\n",
              "      <th></th>\n",
              "      <th></th>\n",
              "      <th></th>\n",
              "      <th></th>\n",
              "      <th></th>\n",
              "      <th></th>\n",
              "    </tr>\n",
              "  </thead>\n",
              "  <tbody>\n",
              "    <tr>\n",
              "      <th>8MO0001-A</th>\n",
              "      <td>2</td>\n",
              "      <td>2</td>\n",
              "      <td>2</td>\n",
              "      <td>2</td>\n",
              "      <td>2</td>\n",
              "      <td>2</td>\n",
              "    </tr>\n",
              "    <tr>\n",
              "      <th>8MO0003-A</th>\n",
              "      <td>3</td>\n",
              "      <td>3</td>\n",
              "      <td>3</td>\n",
              "      <td>3</td>\n",
              "      <td>3</td>\n",
              "      <td>3</td>\n",
              "    </tr>\n",
              "    <tr>\n",
              "      <th>8MO0007</th>\n",
              "      <td>29</td>\n",
              "      <td>29</td>\n",
              "      <td>29</td>\n",
              "      <td>29</td>\n",
              "      <td>29</td>\n",
              "      <td>29</td>\n",
              "    </tr>\n",
              "    <tr>\n",
              "      <th>8MO0008</th>\n",
              "      <td>30</td>\n",
              "      <td>30</td>\n",
              "      <td>30</td>\n",
              "      <td>30</td>\n",
              "      <td>30</td>\n",
              "      <td>30</td>\n",
              "    </tr>\n",
              "    <tr>\n",
              "      <th>8MO0009</th>\n",
              "      <td>28</td>\n",
              "      <td>28</td>\n",
              "      <td>28</td>\n",
              "      <td>28</td>\n",
              "      <td>28</td>\n",
              "      <td>28</td>\n",
              "    </tr>\n",
              "    <tr>\n",
              "      <th>...</th>\n",
              "      <td>...</td>\n",
              "      <td>...</td>\n",
              "      <td>...</td>\n",
              "      <td>...</td>\n",
              "      <td>...</td>\n",
              "      <td>...</td>\n",
              "    </tr>\n",
              "    <tr>\n",
              "      <th>ZAG0041</th>\n",
              "      <td>2</td>\n",
              "      <td>2</td>\n",
              "      <td>2</td>\n",
              "      <td>2</td>\n",
              "      <td>2</td>\n",
              "      <td>2</td>\n",
              "    </tr>\n",
              "    <tr>\n",
              "      <th>ZAG0042</th>\n",
              "      <td>1</td>\n",
              "      <td>1</td>\n",
              "      <td>1</td>\n",
              "      <td>1</td>\n",
              "      <td>1</td>\n",
              "      <td>1</td>\n",
              "    </tr>\n",
              "    <tr>\n",
              "      <th>ZEP0007</th>\n",
              "      <td>5</td>\n",
              "      <td>5</td>\n",
              "      <td>5</td>\n",
              "      <td>5</td>\n",
              "      <td>5</td>\n",
              "      <td>5</td>\n",
              "    </tr>\n",
              "    <tr>\n",
              "      <th>ZEP0008</th>\n",
              "      <td>1</td>\n",
              "      <td>1</td>\n",
              "      <td>1</td>\n",
              "      <td>1</td>\n",
              "      <td>1</td>\n",
              "      <td>1</td>\n",
              "    </tr>\n",
              "    <tr>\n",
              "      <th>par0072</th>\n",
              "      <td>12</td>\n",
              "      <td>12</td>\n",
              "      <td>12</td>\n",
              "      <td>12</td>\n",
              "      <td>12</td>\n",
              "      <td>12</td>\n",
              "    </tr>\n",
              "  </tbody>\n",
              "</table>\n",
              "<p>6798 rows × 6 columns</p>\n",
              "</div>\n",
              "      <button class=\"colab-df-convert\" onclick=\"convertToInteractive('df-166b326e-c0d9-4580-b560-13901e7ebd8b')\"\n",
              "              title=\"Convert this dataframe to an interactive table.\"\n",
              "              style=\"display:none;\">\n",
              "\n",
              "  <svg xmlns=\"http://www.w3.org/2000/svg\" height=\"24px\"viewBox=\"0 0 24 24\"\n",
              "       width=\"24px\">\n",
              "    <path d=\"M0 0h24v24H0V0z\" fill=\"none\"/>\n",
              "    <path d=\"M18.56 5.44l.94 2.06.94-2.06 2.06-.94-2.06-.94-.94-2.06-.94 2.06-2.06.94zm-11 1L8.5 8.5l.94-2.06 2.06-.94-2.06-.94L8.5 2.5l-.94 2.06-2.06.94zm10 10l.94 2.06.94-2.06 2.06-.94-2.06-.94-.94-2.06-.94 2.06-2.06.94z\"/><path d=\"M17.41 7.96l-1.37-1.37c-.4-.4-.92-.59-1.43-.59-.52 0-1.04.2-1.43.59L10.3 9.45l-7.72 7.72c-.78.78-.78 2.05 0 2.83L4 21.41c.39.39.9.59 1.41.59.51 0 1.02-.2 1.41-.59l7.78-7.78 2.81-2.81c.8-.78.8-2.07 0-2.86zM5.41 20L4 18.59l7.72-7.72 1.47 1.35L5.41 20z\"/>\n",
              "  </svg>\n",
              "      </button>\n",
              "\n",
              "\n",
              "\n",
              "    <div id=\"df-4ea75ca9-1a18-48d5-a121-c849a9450269\">\n",
              "      <button class=\"colab-df-quickchart\" onclick=\"quickchart('df-4ea75ca9-1a18-48d5-a121-c849a9450269')\"\n",
              "              title=\"Suggest charts.\"\n",
              "              style=\"display:none;\">\n",
              "\n",
              "<svg xmlns=\"http://www.w3.org/2000/svg\" height=\"24px\"viewBox=\"0 0 24 24\"\n",
              "     width=\"24px\">\n",
              "    <g>\n",
              "        <path d=\"M19 3H5c-1.1 0-2 .9-2 2v14c0 1.1.9 2 2 2h14c1.1 0 2-.9 2-2V5c0-1.1-.9-2-2-2zM9 17H7v-7h2v7zm4 0h-2V7h2v10zm4 0h-2v-4h2v4z\"/>\n",
              "    </g>\n",
              "</svg>\n",
              "      </button>\n",
              "    </div>\n",
              "\n",
              "<style>\n",
              "  .colab-df-quickchart {\n",
              "    background-color: #E8F0FE;\n",
              "    border: none;\n",
              "    border-radius: 50%;\n",
              "    cursor: pointer;\n",
              "    display: none;\n",
              "    fill: #1967D2;\n",
              "    height: 32px;\n",
              "    padding: 0 0 0 0;\n",
              "    width: 32px;\n",
              "  }\n",
              "\n",
              "  .colab-df-quickchart:hover {\n",
              "    background-color: #E2EBFA;\n",
              "    box-shadow: 0px 1px 2px rgba(60, 64, 67, 0.3), 0px 1px 3px 1px rgba(60, 64, 67, 0.15);\n",
              "    fill: #174EA6;\n",
              "  }\n",
              "\n",
              "  [theme=dark] .colab-df-quickchart {\n",
              "    background-color: #3B4455;\n",
              "    fill: #D2E3FC;\n",
              "  }\n",
              "\n",
              "  [theme=dark] .colab-df-quickchart:hover {\n",
              "    background-color: #434B5C;\n",
              "    box-shadow: 0px 1px 3px 1px rgba(0, 0, 0, 0.15);\n",
              "    filter: drop-shadow(0px 1px 2px rgba(0, 0, 0, 0.3));\n",
              "    fill: #FFFFFF;\n",
              "  }\n",
              "</style>\n",
              "\n",
              "    <script>\n",
              "      async function quickchart(key) {\n",
              "        const containerElement = document.querySelector('#' + key);\n",
              "        const charts = await google.colab.kernel.invokeFunction(\n",
              "            'suggestCharts', [key], {});\n",
              "      }\n",
              "    </script>\n",
              "\n",
              "      <script>\n",
              "\n",
              "function displayQuickchartButton(domScope) {\n",
              "  let quickchartButtonEl =\n",
              "    domScope.querySelector('#df-4ea75ca9-1a18-48d5-a121-c849a9450269 button.colab-df-quickchart');\n",
              "  quickchartButtonEl.style.display =\n",
              "    google.colab.kernel.accessAllowed ? 'block' : 'none';\n",
              "}\n",
              "\n",
              "        displayQuickchartButton(document);\n",
              "      </script>\n",
              "      <style>\n",
              "    .colab-df-container {\n",
              "      display:flex;\n",
              "      flex-wrap:wrap;\n",
              "      gap: 12px;\n",
              "    }\n",
              "\n",
              "    .colab-df-convert {\n",
              "      background-color: #E8F0FE;\n",
              "      border: none;\n",
              "      border-radius: 50%;\n",
              "      cursor: pointer;\n",
              "      display: none;\n",
              "      fill: #1967D2;\n",
              "      height: 32px;\n",
              "      padding: 0 0 0 0;\n",
              "      width: 32px;\n",
              "    }\n",
              "\n",
              "    .colab-df-convert:hover {\n",
              "      background-color: #E2EBFA;\n",
              "      box-shadow: 0px 1px 2px rgba(60, 64, 67, 0.3), 0px 1px 3px 1px rgba(60, 64, 67, 0.15);\n",
              "      fill: #174EA6;\n",
              "    }\n",
              "\n",
              "    [theme=dark] .colab-df-convert {\n",
              "      background-color: #3B4455;\n",
              "      fill: #D2E3FC;\n",
              "    }\n",
              "\n",
              "    [theme=dark] .colab-df-convert:hover {\n",
              "      background-color: #434B5C;\n",
              "      box-shadow: 0px 1px 3px 1px rgba(0, 0, 0, 0.15);\n",
              "      filter: drop-shadow(0px 1px 2px rgba(0, 0, 0, 0.3));\n",
              "      fill: #FFFFFF;\n",
              "    }\n",
              "  </style>\n",
              "\n",
              "      <script>\n",
              "        const buttonEl =\n",
              "          document.querySelector('#df-166b326e-c0d9-4580-b560-13901e7ebd8b button.colab-df-convert');\n",
              "        buttonEl.style.display =\n",
              "          google.colab.kernel.accessAllowed ? 'block' : 'none';\n",
              "\n",
              "        async function convertToInteractive(key) {\n",
              "          const element = document.querySelector('#df-166b326e-c0d9-4580-b560-13901e7ebd8b');\n",
              "          const dataTable =\n",
              "            await google.colab.kernel.invokeFunction('convertToInteractive',\n",
              "                                                     [key], {});\n",
              "          if (!dataTable) return;\n",
              "\n",
              "          const docLinkHtml = 'Like what you see? Visit the ' +\n",
              "            '<a target=\"_blank\" href=https://colab.research.google.com/notebooks/data_table.ipynb>data table notebook</a>'\n",
              "            + ' to learn more about interactive tables.';\n",
              "          element.innerHTML = '';\n",
              "          dataTable['output_type'] = 'display_data';\n",
              "          await google.colab.output.renderOutput(dataTable, element);\n",
              "          const docLink = document.createElement('div');\n",
              "          docLink.innerHTML = docLinkHtml;\n",
              "          element.appendChild(docLink);\n",
              "        }\n",
              "      </script>\n",
              "    </div>\n",
              "  </div>\n"
            ]
          },
          "metadata": {},
          "execution_count": 10
        }
      ]
    },
    {
      "cell_type": "markdown",
      "source": [
        "Notice how in this \"grouped\" DataFrame we have 6798 rows: one row for each unique `sku`. In the original DataFrame we had many more rows:"
      ],
      "metadata": {
        "id": "Jpu853EhFWD2"
      }
    },
    {
      "cell_type": "code",
      "source": [
        "ol_df.shape"
      ],
      "metadata": {
        "id": "fRrHMdH1Fgpf",
        "outputId": "259a8aff-dc66-4ede-fff7-6bdb24b4dc13",
        "colab": {
          "base_uri": "https://localhost:8080/"
        }
      },
      "execution_count": 11,
      "outputs": [
        {
          "output_type": "execute_result",
          "data": {
            "text/plain": [
              "(216250, 7)"
            ]
          },
          "metadata": {},
          "execution_count": 11
        }
      ]
    },
    {
      "cell_type": "markdown",
      "source": [
        "As you can see above, the same number of rows were condensed for each column, this is to be expected when we use `count()` as the aggregation function. However, if we use an aggregate such as `.sum()`, then we get the total for the condensed values of each column:"
      ],
      "metadata": {
        "id": "NXx21qYyVM76"
      }
    },
    {
      "cell_type": "code",
      "source": [
        "ol_df.groupby(\"sku\").sum()"
      ],
      "metadata": {
        "id": "UJhFi7a3Vr7c",
        "outputId": "aad9b1be-120d-43f5-f1d0-f3e2fcc3a009",
        "colab": {
          "base_uri": "https://localhost:8080/",
          "height": 511
        }
      },
      "execution_count": 12,
      "outputs": [
        {
          "output_type": "stream",
          "name": "stderr",
          "text": [
            "<ipython-input-12-ec0d4021f489>:1: FutureWarning: The default value of numeric_only in DataFrameGroupBy.sum is deprecated. In a future version, numeric_only will default to False. Either specify numeric_only or select only columns which should be valid for the function.\n",
            "  ol_df.groupby(\"sku\").sum()\n"
          ]
        },
        {
          "output_type": "execute_result",
          "data": {
            "text/plain": [
              "                 id  id_order  product_id  product_quantity  unit_price\n",
              "sku                                                                    \n",
              "8MO0001-A   2731953    813237           0                 2       25.92\n",
              "8MO0003-A   4893267   1557627           0                 3       38.55\n",
              "8MO0007    37205508  10794389           0                30      619.71\n",
              "8MO0008    38188229  11034203           0                31      651.70\n",
              "8MO0009    40281947  12270595           0                30      499.60\n",
              "...             ...       ...         ...               ...         ...\n",
              "ZAG0041     3289730   1050270           0                 2       39.98\n",
              "ZAG0042     1641159    523690           0                 1       19.99\n",
              "ZEP0007     6423489   1858331           0                 5      685.59\n",
              "ZEP0008     1508929    468546           0                 1      104.12\n",
              "par0072    16643352   4997995           0                13     2689.90\n",
              "\n",
              "[6798 rows x 5 columns]"
            ],
            "text/html": [
              "\n",
              "\n",
              "  <div id=\"df-3f7527fb-d985-418a-a69f-6b817896b98f\">\n",
              "    <div class=\"colab-df-container\">\n",
              "      <div>\n",
              "<style scoped>\n",
              "    .dataframe tbody tr th:only-of-type {\n",
              "        vertical-align: middle;\n",
              "    }\n",
              "\n",
              "    .dataframe tbody tr th {\n",
              "        vertical-align: top;\n",
              "    }\n",
              "\n",
              "    .dataframe thead th {\n",
              "        text-align: right;\n",
              "    }\n",
              "</style>\n",
              "<table border=\"1\" class=\"dataframe\">\n",
              "  <thead>\n",
              "    <tr style=\"text-align: right;\">\n",
              "      <th></th>\n",
              "      <th>id</th>\n",
              "      <th>id_order</th>\n",
              "      <th>product_id</th>\n",
              "      <th>product_quantity</th>\n",
              "      <th>unit_price</th>\n",
              "    </tr>\n",
              "    <tr>\n",
              "      <th>sku</th>\n",
              "      <th></th>\n",
              "      <th></th>\n",
              "      <th></th>\n",
              "      <th></th>\n",
              "      <th></th>\n",
              "    </tr>\n",
              "  </thead>\n",
              "  <tbody>\n",
              "    <tr>\n",
              "      <th>8MO0001-A</th>\n",
              "      <td>2731953</td>\n",
              "      <td>813237</td>\n",
              "      <td>0</td>\n",
              "      <td>2</td>\n",
              "      <td>25.92</td>\n",
              "    </tr>\n",
              "    <tr>\n",
              "      <th>8MO0003-A</th>\n",
              "      <td>4893267</td>\n",
              "      <td>1557627</td>\n",
              "      <td>0</td>\n",
              "      <td>3</td>\n",
              "      <td>38.55</td>\n",
              "    </tr>\n",
              "    <tr>\n",
              "      <th>8MO0007</th>\n",
              "      <td>37205508</td>\n",
              "      <td>10794389</td>\n",
              "      <td>0</td>\n",
              "      <td>30</td>\n",
              "      <td>619.71</td>\n",
              "    </tr>\n",
              "    <tr>\n",
              "      <th>8MO0008</th>\n",
              "      <td>38188229</td>\n",
              "      <td>11034203</td>\n",
              "      <td>0</td>\n",
              "      <td>31</td>\n",
              "      <td>651.70</td>\n",
              "    </tr>\n",
              "    <tr>\n",
              "      <th>8MO0009</th>\n",
              "      <td>40281947</td>\n",
              "      <td>12270595</td>\n",
              "      <td>0</td>\n",
              "      <td>30</td>\n",
              "      <td>499.60</td>\n",
              "    </tr>\n",
              "    <tr>\n",
              "      <th>...</th>\n",
              "      <td>...</td>\n",
              "      <td>...</td>\n",
              "      <td>...</td>\n",
              "      <td>...</td>\n",
              "      <td>...</td>\n",
              "    </tr>\n",
              "    <tr>\n",
              "      <th>ZAG0041</th>\n",
              "      <td>3289730</td>\n",
              "      <td>1050270</td>\n",
              "      <td>0</td>\n",
              "      <td>2</td>\n",
              "      <td>39.98</td>\n",
              "    </tr>\n",
              "    <tr>\n",
              "      <th>ZAG0042</th>\n",
              "      <td>1641159</td>\n",
              "      <td>523690</td>\n",
              "      <td>0</td>\n",
              "      <td>1</td>\n",
              "      <td>19.99</td>\n",
              "    </tr>\n",
              "    <tr>\n",
              "      <th>ZEP0007</th>\n",
              "      <td>6423489</td>\n",
              "      <td>1858331</td>\n",
              "      <td>0</td>\n",
              "      <td>5</td>\n",
              "      <td>685.59</td>\n",
              "    </tr>\n",
              "    <tr>\n",
              "      <th>ZEP0008</th>\n",
              "      <td>1508929</td>\n",
              "      <td>468546</td>\n",
              "      <td>0</td>\n",
              "      <td>1</td>\n",
              "      <td>104.12</td>\n",
              "    </tr>\n",
              "    <tr>\n",
              "      <th>par0072</th>\n",
              "      <td>16643352</td>\n",
              "      <td>4997995</td>\n",
              "      <td>0</td>\n",
              "      <td>13</td>\n",
              "      <td>2689.90</td>\n",
              "    </tr>\n",
              "  </tbody>\n",
              "</table>\n",
              "<p>6798 rows × 5 columns</p>\n",
              "</div>\n",
              "      <button class=\"colab-df-convert\" onclick=\"convertToInteractive('df-3f7527fb-d985-418a-a69f-6b817896b98f')\"\n",
              "              title=\"Convert this dataframe to an interactive table.\"\n",
              "              style=\"display:none;\">\n",
              "\n",
              "  <svg xmlns=\"http://www.w3.org/2000/svg\" height=\"24px\"viewBox=\"0 0 24 24\"\n",
              "       width=\"24px\">\n",
              "    <path d=\"M0 0h24v24H0V0z\" fill=\"none\"/>\n",
              "    <path d=\"M18.56 5.44l.94 2.06.94-2.06 2.06-.94-2.06-.94-.94-2.06-.94 2.06-2.06.94zm-11 1L8.5 8.5l.94-2.06 2.06-.94-2.06-.94L8.5 2.5l-.94 2.06-2.06.94zm10 10l.94 2.06.94-2.06 2.06-.94-2.06-.94-.94-2.06-.94 2.06-2.06.94z\"/><path d=\"M17.41 7.96l-1.37-1.37c-.4-.4-.92-.59-1.43-.59-.52 0-1.04.2-1.43.59L10.3 9.45l-7.72 7.72c-.78.78-.78 2.05 0 2.83L4 21.41c.39.39.9.59 1.41.59.51 0 1.02-.2 1.41-.59l7.78-7.78 2.81-2.81c.8-.78.8-2.07 0-2.86zM5.41 20L4 18.59l7.72-7.72 1.47 1.35L5.41 20z\"/>\n",
              "  </svg>\n",
              "      </button>\n",
              "\n",
              "\n",
              "\n",
              "    <div id=\"df-198a6133-47c3-4cdb-b772-118a7743367c\">\n",
              "      <button class=\"colab-df-quickchart\" onclick=\"quickchart('df-198a6133-47c3-4cdb-b772-118a7743367c')\"\n",
              "              title=\"Suggest charts.\"\n",
              "              style=\"display:none;\">\n",
              "\n",
              "<svg xmlns=\"http://www.w3.org/2000/svg\" height=\"24px\"viewBox=\"0 0 24 24\"\n",
              "     width=\"24px\">\n",
              "    <g>\n",
              "        <path d=\"M19 3H5c-1.1 0-2 .9-2 2v14c0 1.1.9 2 2 2h14c1.1 0 2-.9 2-2V5c0-1.1-.9-2-2-2zM9 17H7v-7h2v7zm4 0h-2V7h2v10zm4 0h-2v-4h2v4z\"/>\n",
              "    </g>\n",
              "</svg>\n",
              "      </button>\n",
              "    </div>\n",
              "\n",
              "<style>\n",
              "  .colab-df-quickchart {\n",
              "    background-color: #E8F0FE;\n",
              "    border: none;\n",
              "    border-radius: 50%;\n",
              "    cursor: pointer;\n",
              "    display: none;\n",
              "    fill: #1967D2;\n",
              "    height: 32px;\n",
              "    padding: 0 0 0 0;\n",
              "    width: 32px;\n",
              "  }\n",
              "\n",
              "  .colab-df-quickchart:hover {\n",
              "    background-color: #E2EBFA;\n",
              "    box-shadow: 0px 1px 2px rgba(60, 64, 67, 0.3), 0px 1px 3px 1px rgba(60, 64, 67, 0.15);\n",
              "    fill: #174EA6;\n",
              "  }\n",
              "\n",
              "  [theme=dark] .colab-df-quickchart {\n",
              "    background-color: #3B4455;\n",
              "    fill: #D2E3FC;\n",
              "  }\n",
              "\n",
              "  [theme=dark] .colab-df-quickchart:hover {\n",
              "    background-color: #434B5C;\n",
              "    box-shadow: 0px 1px 3px 1px rgba(0, 0, 0, 0.15);\n",
              "    filter: drop-shadow(0px 1px 2px rgba(0, 0, 0, 0.3));\n",
              "    fill: #FFFFFF;\n",
              "  }\n",
              "</style>\n",
              "\n",
              "    <script>\n",
              "      async function quickchart(key) {\n",
              "        const containerElement = document.querySelector('#' + key);\n",
              "        const charts = await google.colab.kernel.invokeFunction(\n",
              "            'suggestCharts', [key], {});\n",
              "      }\n",
              "    </script>\n",
              "\n",
              "      <script>\n",
              "\n",
              "function displayQuickchartButton(domScope) {\n",
              "  let quickchartButtonEl =\n",
              "    domScope.querySelector('#df-198a6133-47c3-4cdb-b772-118a7743367c button.colab-df-quickchart');\n",
              "  quickchartButtonEl.style.display =\n",
              "    google.colab.kernel.accessAllowed ? 'block' : 'none';\n",
              "}\n",
              "\n",
              "        displayQuickchartButton(document);\n",
              "      </script>\n",
              "      <style>\n",
              "    .colab-df-container {\n",
              "      display:flex;\n",
              "      flex-wrap:wrap;\n",
              "      gap: 12px;\n",
              "    }\n",
              "\n",
              "    .colab-df-convert {\n",
              "      background-color: #E8F0FE;\n",
              "      border: none;\n",
              "      border-radius: 50%;\n",
              "      cursor: pointer;\n",
              "      display: none;\n",
              "      fill: #1967D2;\n",
              "      height: 32px;\n",
              "      padding: 0 0 0 0;\n",
              "      width: 32px;\n",
              "    }\n",
              "\n",
              "    .colab-df-convert:hover {\n",
              "      background-color: #E2EBFA;\n",
              "      box-shadow: 0px 1px 2px rgba(60, 64, 67, 0.3), 0px 1px 3px 1px rgba(60, 64, 67, 0.15);\n",
              "      fill: #174EA6;\n",
              "    }\n",
              "\n",
              "    [theme=dark] .colab-df-convert {\n",
              "      background-color: #3B4455;\n",
              "      fill: #D2E3FC;\n",
              "    }\n",
              "\n",
              "    [theme=dark] .colab-df-convert:hover {\n",
              "      background-color: #434B5C;\n",
              "      box-shadow: 0px 1px 3px 1px rgba(0, 0, 0, 0.15);\n",
              "      filter: drop-shadow(0px 1px 2px rgba(0, 0, 0, 0.3));\n",
              "      fill: #FFFFFF;\n",
              "    }\n",
              "  </style>\n",
              "\n",
              "      <script>\n",
              "        const buttonEl =\n",
              "          document.querySelector('#df-3f7527fb-d985-418a-a69f-6b817896b98f button.colab-df-convert');\n",
              "        buttonEl.style.display =\n",
              "          google.colab.kernel.accessAllowed ? 'block' : 'none';\n",
              "\n",
              "        async function convertToInteractive(key) {\n",
              "          const element = document.querySelector('#df-3f7527fb-d985-418a-a69f-6b817896b98f');\n",
              "          const dataTable =\n",
              "            await google.colab.kernel.invokeFunction('convertToInteractive',\n",
              "                                                     [key], {});\n",
              "          if (!dataTable) return;\n",
              "\n",
              "          const docLinkHtml = 'Like what you see? Visit the ' +\n",
              "            '<a target=\"_blank\" href=https://colab.research.google.com/notebooks/data_table.ipynb>data table notebook</a>'\n",
              "            + ' to learn more about interactive tables.';\n",
              "          element.innerHTML = '';\n",
              "          dataTable['output_type'] = 'display_data';\n",
              "          await google.colab.output.renderOutput(dataTable, element);\n",
              "          const docLink = document.createElement('div');\n",
              "          docLink.innerHTML = docLinkHtml;\n",
              "          element.appendChild(docLink);\n",
              "        }\n",
              "      </script>\n",
              "    </div>\n",
              "  </div>\n"
            ]
          },
          "metadata": {},
          "execution_count": 12
        }
      ]
    },
    {
      "cell_type": "markdown",
      "source": [
        "Now, obviously, not all of the information above matters: it's not relevant what the sum of the `id`'s is. So, let's select the `product_quantity` and see how many units of each product were sold:"
      ],
      "metadata": {
        "id": "qxpruL7bV26a"
      }
    },
    {
      "cell_type": "code",
      "source": [
        "ol_df.groupby(\"sku\")[\"product_quantity\"].sum()"
      ],
      "metadata": {
        "id": "156UzFjzSpuS",
        "outputId": "8e27b287-416d-46e5-f356-4b9915fd87ac",
        "colab": {
          "base_uri": "https://localhost:8080/"
        }
      },
      "execution_count": 13,
      "outputs": [
        {
          "output_type": "execute_result",
          "data": {
            "text/plain": [
              "sku\n",
              "8MO0001-A     2\n",
              "8MO0003-A     3\n",
              "8MO0007      30\n",
              "8MO0008      31\n",
              "8MO0009      30\n",
              "             ..\n",
              "ZAG0041       2\n",
              "ZAG0042       1\n",
              "ZEP0007       5\n",
              "ZEP0008       1\n",
              "par0072      13\n",
              "Name: product_quantity, Length: 6798, dtype: int64"
            ]
          },
          "metadata": {},
          "execution_count": 13
        }
      ]
    },
    {
      "cell_type": "markdown",
      "source": [
        "It can be useful sometimes to sort the values from highest to lowest. With the `.sum()` of `product_quantity` this will help us to see how many of each item we sold in order of quantity."
      ],
      "metadata": {
        "id": "JGyvEWtKWiBn"
      }
    },
    {
      "cell_type": "code",
      "source": [
        "(\n",
        "    ol_df\n",
        "    .groupby(\"sku\")[\"product_quantity\"]\n",
        "    .sum()\n",
        "    .sort_values(ascending=False)\n",
        ")"
      ],
      "metadata": {
        "id": "A99m-tRCT9RK",
        "outputId": "2d3e9637-11e7-4f16-8a6f-5d0f89315664",
        "colab": {
          "base_uri": "https://localhost:8080/"
        }
      },
      "execution_count": 14,
      "outputs": [
        {
          "output_type": "execute_result",
          "data": {
            "text/plain": [
              "sku\n",
              "APP1190      5576\n",
              "APP0698      2337\n",
              "WDT0183      1828\n",
              "APP1922      1663\n",
              "APP0927      1618\n",
              "             ... \n",
              "PAC2241         1\n",
              "JBL0156         1\n",
              "PAC2237         1\n",
              "TIG0018-A       1\n",
              "APP0241-A       1\n",
              "Name: product_quantity, Length: 6798, dtype: int64"
            ]
          },
          "metadata": {},
          "execution_count": 14
        }
      ]
    },
    {
      "cell_type": "markdown",
      "source": [
        "Or if you wish for only a certain number of the largest of smallest numbers, remember you can use `.nlargest()` or `.nsmallest()`"
      ],
      "metadata": {
        "id": "D58-EP0Snmi-"
      }
    },
    {
      "cell_type": "code",
      "source": [
        "(\n",
        "    ol_df\n",
        "    .groupby(\"sku\")[\"product_quantity\"]\n",
        "    .sum()\n",
        "    .nlargest(5)\n",
        ")"
      ],
      "metadata": {
        "id": "jPKxQPDen0tO",
        "outputId": "8dca7f7c-fa9e-4e31-dd4f-7db02bc1360c",
        "colab": {
          "base_uri": "https://localhost:8080/"
        }
      },
      "execution_count": 15,
      "outputs": [
        {
          "output_type": "execute_result",
          "data": {
            "text/plain": [
              "sku\n",
              "APP1190    5576\n",
              "APP0698    2337\n",
              "WDT0183    1828\n",
              "APP1922    1663\n",
              "APP0927    1618\n",
              "Name: product_quantity, dtype: int64"
            ]
          },
          "metadata": {},
          "execution_count": 15
        }
      ]
    },
    {
      "cell_type": "markdown",
      "source": [
        "### 1.1.&nbsp; List of aggregates\n",
        "\n",
        "It is possible to use many different aggregates besides just `.sum()` and `.count()`. A full list can be found [here](https://pandas.pydata.org/docs/reference/groupby.html), and below are a few of the most useful.\n",
        "\n",
        "* `.count()` – Number of non-null observations\n",
        "* `.sum()` – Sum of values\n",
        "* `.mean()` – Mean of values\n",
        "* `.median()` – Median of values\n",
        "* `.min()` – Minimum\n",
        "* `.max()` – Maximum\n",
        "* `.std()` – Standard deviation"
      ],
      "metadata": {
        "id": "A8fNKlbMkC9c"
      }
    },
    {
      "cell_type": "markdown",
      "source": [
        "### 1.2.&nbsp; `.agg()`\n",
        "We are not restricted to only using one aggregate at a time. We can use the `.agg()` method to see multiple aggregates at once."
      ],
      "metadata": {
        "id": "2hCaahyEki_6"
      }
    },
    {
      "cell_type": "markdown",
      "source": [
        "#### 1.2.1.&nbsp; multiple aggregates for one column\n",
        "Here we first `.groupby()` the `sku`'s, then take the column `product quantity`, and look at both the `.sum()` and `.count()` of `product_quantity`. We also here reduced our DataFrame to the 10 largest `sku`\"s according to the `.sum()` of `product_quantity`.\n",
        "\n",
        "> **Tip:** when working with many Pandas methods chained one after the other, wrap all the statement in parenthesis and add a line break before any `.method()`. It will improve the readability of the code*"
      ],
      "metadata": {
        "id": "_4uueTuf_Ypk"
      }
    },
    {
      "cell_type": "code",
      "source": [
        "(\n",
        "    ol_df\n",
        "    .groupby(\"sku\")[\"product_quantity\"]\n",
        "    .agg([\"sum\", \"count\"])\n",
        "    .nlargest(10, \"sum\")\n",
        ")"
      ],
      "metadata": {
        "id": "AMktUr14kGv0",
        "outputId": "32919390-dcb3-4f84-e3fd-1a7ccf2a131a",
        "colab": {
          "base_uri": "https://localhost:8080/",
          "height": 394
        }
      },
      "execution_count": null,
      "outputs": [
        {
          "output_type": "execute_result",
          "data": {
            "text/plain": [
              "          sum  count\n",
              "sku                 \n",
              "APP1190  5576   4306\n",
              "APP0698  2337   1615\n",
              "WDT0183  1828   1124\n",
              "APP1922  1663   1560\n",
              "APP0927  1618   1369\n",
              "SAM0074  1346   1259\n",
              "APP1970  1182   1007\n",
              "APP1221  1131   1108\n",
              "CRU0051  1122    948\n",
              "WDT0141  1048    671"
            ],
            "text/html": [
              "\n",
              "  <div id=\"df-24d2663f-f073-4a1a-800f-4f88ba485a64\">\n",
              "    <div class=\"colab-df-container\">\n",
              "      <div>\n",
              "<style scoped>\n",
              "    .dataframe tbody tr th:only-of-type {\n",
              "        vertical-align: middle;\n",
              "    }\n",
              "\n",
              "    .dataframe tbody tr th {\n",
              "        vertical-align: top;\n",
              "    }\n",
              "\n",
              "    .dataframe thead th {\n",
              "        text-align: right;\n",
              "    }\n",
              "</style>\n",
              "<table border=\"1\" class=\"dataframe\">\n",
              "  <thead>\n",
              "    <tr style=\"text-align: right;\">\n",
              "      <th></th>\n",
              "      <th>sum</th>\n",
              "      <th>count</th>\n",
              "    </tr>\n",
              "    <tr>\n",
              "      <th>sku</th>\n",
              "      <th></th>\n",
              "      <th></th>\n",
              "    </tr>\n",
              "  </thead>\n",
              "  <tbody>\n",
              "    <tr>\n",
              "      <th>APP1190</th>\n",
              "      <td>5576</td>\n",
              "      <td>4306</td>\n",
              "    </tr>\n",
              "    <tr>\n",
              "      <th>APP0698</th>\n",
              "      <td>2337</td>\n",
              "      <td>1615</td>\n",
              "    </tr>\n",
              "    <tr>\n",
              "      <th>WDT0183</th>\n",
              "      <td>1828</td>\n",
              "      <td>1124</td>\n",
              "    </tr>\n",
              "    <tr>\n",
              "      <th>APP1922</th>\n",
              "      <td>1663</td>\n",
              "      <td>1560</td>\n",
              "    </tr>\n",
              "    <tr>\n",
              "      <th>APP0927</th>\n",
              "      <td>1618</td>\n",
              "      <td>1369</td>\n",
              "    </tr>\n",
              "    <tr>\n",
              "      <th>SAM0074</th>\n",
              "      <td>1346</td>\n",
              "      <td>1259</td>\n",
              "    </tr>\n",
              "    <tr>\n",
              "      <th>APP1970</th>\n",
              "      <td>1182</td>\n",
              "      <td>1007</td>\n",
              "    </tr>\n",
              "    <tr>\n",
              "      <th>APP1221</th>\n",
              "      <td>1131</td>\n",
              "      <td>1108</td>\n",
              "    </tr>\n",
              "    <tr>\n",
              "      <th>CRU0051</th>\n",
              "      <td>1122</td>\n",
              "      <td>948</td>\n",
              "    </tr>\n",
              "    <tr>\n",
              "      <th>WDT0141</th>\n",
              "      <td>1048</td>\n",
              "      <td>671</td>\n",
              "    </tr>\n",
              "  </tbody>\n",
              "</table>\n",
              "</div>\n",
              "      <button class=\"colab-df-convert\" onclick=\"convertToInteractive('df-24d2663f-f073-4a1a-800f-4f88ba485a64')\"\n",
              "              title=\"Convert this dataframe to an interactive table.\"\n",
              "              style=\"display:none;\">\n",
              "        \n",
              "  <svg xmlns=\"http://www.w3.org/2000/svg\" height=\"24px\"viewBox=\"0 0 24 24\"\n",
              "       width=\"24px\">\n",
              "    <path d=\"M0 0h24v24H0V0z\" fill=\"none\"/>\n",
              "    <path d=\"M18.56 5.44l.94 2.06.94-2.06 2.06-.94-2.06-.94-.94-2.06-.94 2.06-2.06.94zm-11 1L8.5 8.5l.94-2.06 2.06-.94-2.06-.94L8.5 2.5l-.94 2.06-2.06.94zm10 10l.94 2.06.94-2.06 2.06-.94-2.06-.94-.94-2.06-.94 2.06-2.06.94z\"/><path d=\"M17.41 7.96l-1.37-1.37c-.4-.4-.92-.59-1.43-.59-.52 0-1.04.2-1.43.59L10.3 9.45l-7.72 7.72c-.78.78-.78 2.05 0 2.83L4 21.41c.39.39.9.59 1.41.59.51 0 1.02-.2 1.41-.59l7.78-7.78 2.81-2.81c.8-.78.8-2.07 0-2.86zM5.41 20L4 18.59l7.72-7.72 1.47 1.35L5.41 20z\"/>\n",
              "  </svg>\n",
              "      </button>\n",
              "      \n",
              "  <style>\n",
              "    .colab-df-container {\n",
              "      display:flex;\n",
              "      flex-wrap:wrap;\n",
              "      gap: 12px;\n",
              "    }\n",
              "\n",
              "    .colab-df-convert {\n",
              "      background-color: #E8F0FE;\n",
              "      border: none;\n",
              "      border-radius: 50%;\n",
              "      cursor: pointer;\n",
              "      display: none;\n",
              "      fill: #1967D2;\n",
              "      height: 32px;\n",
              "      padding: 0 0 0 0;\n",
              "      width: 32px;\n",
              "    }\n",
              "\n",
              "    .colab-df-convert:hover {\n",
              "      background-color: #E2EBFA;\n",
              "      box-shadow: 0px 1px 2px rgba(60, 64, 67, 0.3), 0px 1px 3px 1px rgba(60, 64, 67, 0.15);\n",
              "      fill: #174EA6;\n",
              "    }\n",
              "\n",
              "    [theme=dark] .colab-df-convert {\n",
              "      background-color: #3B4455;\n",
              "      fill: #D2E3FC;\n",
              "    }\n",
              "\n",
              "    [theme=dark] .colab-df-convert:hover {\n",
              "      background-color: #434B5C;\n",
              "      box-shadow: 0px 1px 3px 1px rgba(0, 0, 0, 0.15);\n",
              "      filter: drop-shadow(0px 1px 2px rgba(0, 0, 0, 0.3));\n",
              "      fill: #FFFFFF;\n",
              "    }\n",
              "  </style>\n",
              "\n",
              "      <script>\n",
              "        const buttonEl =\n",
              "          document.querySelector('#df-24d2663f-f073-4a1a-800f-4f88ba485a64 button.colab-df-convert');\n",
              "        buttonEl.style.display =\n",
              "          google.colab.kernel.accessAllowed ? 'block' : 'none';\n",
              "\n",
              "        async function convertToInteractive(key) {\n",
              "          const element = document.querySelector('#df-24d2663f-f073-4a1a-800f-4f88ba485a64');\n",
              "          const dataTable =\n",
              "            await google.colab.kernel.invokeFunction('convertToInteractive',\n",
              "                                                     [key], {});\n",
              "          if (!dataTable) return;\n",
              "\n",
              "          const docLinkHtml = 'Like what you see? Visit the ' +\n",
              "            '<a target=\"_blank\" href=https://colab.research.google.com/notebooks/data_table.ipynb>data table notebook</a>'\n",
              "            + ' to learn more about interactive tables.';\n",
              "          element.innerHTML = '';\n",
              "          dataTable['output_type'] = 'display_data';\n",
              "          await google.colab.output.renderOutput(dataTable, element);\n",
              "          const docLink = document.createElement('div');\n",
              "          docLink.innerHTML = docLinkHtml;\n",
              "          element.appendChild(docLink);\n",
              "        }\n",
              "      </script>\n",
              "    </div>\n",
              "  </div>\n",
              "  "
            ]
          },
          "metadata": {},
          "execution_count": 12
        }
      ]
    },
    {
      "cell_type": "markdown",
      "source": [
        "#### 1.2.2.&nbsp; mutliple aggregates for more than one column\n",
        "Not only can we look at multiple aggregates for one column. We can also look at multiple aggregates over multiple columns. Here we again `.groupby()` `sku` and take the `.sum()` and `.count()` of `product_quantity`, **and also** look at the `.mean()` of the `unit_price`."
      ],
      "metadata": {
        "id": "5TqpcLupNU7n"
      }
    },
    {
      "cell_type": "code",
      "source": [
        "(\n",
        "    ol_df\n",
        "    .groupby(\"sku\")\n",
        "    .agg({\"product_quantity\": [\"sum\", \"count\"], \"unit_price\": \"mean\"})\n",
        "    .nlargest(10, (\"product_quantity\", \"sum\"))\n",
        ")"
      ],
      "metadata": {
        "id": "yGPFDBBl35VV",
        "outputId": "ef2f64f2-b35c-41ff-de0b-6656a7fb4880",
        "colab": {
          "base_uri": "https://localhost:8080/",
          "height": 426
        }
      },
      "execution_count": null,
      "outputs": [
        {
          "output_type": "execute_result",
          "data": {
            "text/plain": [
              "        product_quantity        unit_price\n",
              "                     sum count        mean\n",
              "sku                                       \n",
              "APP1190             5576  4306   56.014057\n",
              "APP0698             2337  1615   10.116279\n",
              "WDT0183             1828  1124  139.061770\n",
              "APP1922             1663  1560  162.143968\n",
              "APP0927             1618  1369   17.038773\n",
              "SAM0074             1346  1259  152.823606\n",
              "APP1970             1182  1007  362.970417\n",
              "APP1221             1131  1108  106.131146\n",
              "CRU0051             1122   948  140.734863\n",
              "WDT0141             1048   671  109.266259"
            ],
            "text/html": [
              "\n",
              "  <div id=\"df-8c578b3b-cb56-4781-99f4-8772a79c015f\">\n",
              "    <div class=\"colab-df-container\">\n",
              "      <div>\n",
              "<style scoped>\n",
              "    .dataframe tbody tr th:only-of-type {\n",
              "        vertical-align: middle;\n",
              "    }\n",
              "\n",
              "    .dataframe tbody tr th {\n",
              "        vertical-align: top;\n",
              "    }\n",
              "\n",
              "    .dataframe thead tr th {\n",
              "        text-align: left;\n",
              "    }\n",
              "\n",
              "    .dataframe thead tr:last-of-type th {\n",
              "        text-align: right;\n",
              "    }\n",
              "</style>\n",
              "<table border=\"1\" class=\"dataframe\">\n",
              "  <thead>\n",
              "    <tr>\n",
              "      <th></th>\n",
              "      <th colspan=\"2\" halign=\"left\">product_quantity</th>\n",
              "      <th>unit_price</th>\n",
              "    </tr>\n",
              "    <tr>\n",
              "      <th></th>\n",
              "      <th>sum</th>\n",
              "      <th>count</th>\n",
              "      <th>mean</th>\n",
              "    </tr>\n",
              "    <tr>\n",
              "      <th>sku</th>\n",
              "      <th></th>\n",
              "      <th></th>\n",
              "      <th></th>\n",
              "    </tr>\n",
              "  </thead>\n",
              "  <tbody>\n",
              "    <tr>\n",
              "      <th>APP1190</th>\n",
              "      <td>5576</td>\n",
              "      <td>4306</td>\n",
              "      <td>56.014057</td>\n",
              "    </tr>\n",
              "    <tr>\n",
              "      <th>APP0698</th>\n",
              "      <td>2337</td>\n",
              "      <td>1615</td>\n",
              "      <td>10.116279</td>\n",
              "    </tr>\n",
              "    <tr>\n",
              "      <th>WDT0183</th>\n",
              "      <td>1828</td>\n",
              "      <td>1124</td>\n",
              "      <td>139.061770</td>\n",
              "    </tr>\n",
              "    <tr>\n",
              "      <th>APP1922</th>\n",
              "      <td>1663</td>\n",
              "      <td>1560</td>\n",
              "      <td>162.143968</td>\n",
              "    </tr>\n",
              "    <tr>\n",
              "      <th>APP0927</th>\n",
              "      <td>1618</td>\n",
              "      <td>1369</td>\n",
              "      <td>17.038773</td>\n",
              "    </tr>\n",
              "    <tr>\n",
              "      <th>SAM0074</th>\n",
              "      <td>1346</td>\n",
              "      <td>1259</td>\n",
              "      <td>152.823606</td>\n",
              "    </tr>\n",
              "    <tr>\n",
              "      <th>APP1970</th>\n",
              "      <td>1182</td>\n",
              "      <td>1007</td>\n",
              "      <td>362.970417</td>\n",
              "    </tr>\n",
              "    <tr>\n",
              "      <th>APP1221</th>\n",
              "      <td>1131</td>\n",
              "      <td>1108</td>\n",
              "      <td>106.131146</td>\n",
              "    </tr>\n",
              "    <tr>\n",
              "      <th>CRU0051</th>\n",
              "      <td>1122</td>\n",
              "      <td>948</td>\n",
              "      <td>140.734863</td>\n",
              "    </tr>\n",
              "    <tr>\n",
              "      <th>WDT0141</th>\n",
              "      <td>1048</td>\n",
              "      <td>671</td>\n",
              "      <td>109.266259</td>\n",
              "    </tr>\n",
              "  </tbody>\n",
              "</table>\n",
              "</div>\n",
              "      <button class=\"colab-df-convert\" onclick=\"convertToInteractive('df-8c578b3b-cb56-4781-99f4-8772a79c015f')\"\n",
              "              title=\"Convert this dataframe to an interactive table.\"\n",
              "              style=\"display:none;\">\n",
              "        \n",
              "  <svg xmlns=\"http://www.w3.org/2000/svg\" height=\"24px\"viewBox=\"0 0 24 24\"\n",
              "       width=\"24px\">\n",
              "    <path d=\"M0 0h24v24H0V0z\" fill=\"none\"/>\n",
              "    <path d=\"M18.56 5.44l.94 2.06.94-2.06 2.06-.94-2.06-.94-.94-2.06-.94 2.06-2.06.94zm-11 1L8.5 8.5l.94-2.06 2.06-.94-2.06-.94L8.5 2.5l-.94 2.06-2.06.94zm10 10l.94 2.06.94-2.06 2.06-.94-2.06-.94-.94-2.06-.94 2.06-2.06.94z\"/><path d=\"M17.41 7.96l-1.37-1.37c-.4-.4-.92-.59-1.43-.59-.52 0-1.04.2-1.43.59L10.3 9.45l-7.72 7.72c-.78.78-.78 2.05 0 2.83L4 21.41c.39.39.9.59 1.41.59.51 0 1.02-.2 1.41-.59l7.78-7.78 2.81-2.81c.8-.78.8-2.07 0-2.86zM5.41 20L4 18.59l7.72-7.72 1.47 1.35L5.41 20z\"/>\n",
              "  </svg>\n",
              "      </button>\n",
              "      \n",
              "  <style>\n",
              "    .colab-df-container {\n",
              "      display:flex;\n",
              "      flex-wrap:wrap;\n",
              "      gap: 12px;\n",
              "    }\n",
              "\n",
              "    .colab-df-convert {\n",
              "      background-color: #E8F0FE;\n",
              "      border: none;\n",
              "      border-radius: 50%;\n",
              "      cursor: pointer;\n",
              "      display: none;\n",
              "      fill: #1967D2;\n",
              "      height: 32px;\n",
              "      padding: 0 0 0 0;\n",
              "      width: 32px;\n",
              "    }\n",
              "\n",
              "    .colab-df-convert:hover {\n",
              "      background-color: #E2EBFA;\n",
              "      box-shadow: 0px 1px 2px rgba(60, 64, 67, 0.3), 0px 1px 3px 1px rgba(60, 64, 67, 0.15);\n",
              "      fill: #174EA6;\n",
              "    }\n",
              "\n",
              "    [theme=dark] .colab-df-convert {\n",
              "      background-color: #3B4455;\n",
              "      fill: #D2E3FC;\n",
              "    }\n",
              "\n",
              "    [theme=dark] .colab-df-convert:hover {\n",
              "      background-color: #434B5C;\n",
              "      box-shadow: 0px 1px 3px 1px rgba(0, 0, 0, 0.15);\n",
              "      filter: drop-shadow(0px 1px 2px rgba(0, 0, 0, 0.3));\n",
              "      fill: #FFFFFF;\n",
              "    }\n",
              "  </style>\n",
              "\n",
              "      <script>\n",
              "        const buttonEl =\n",
              "          document.querySelector('#df-8c578b3b-cb56-4781-99f4-8772a79c015f button.colab-df-convert');\n",
              "        buttonEl.style.display =\n",
              "          google.colab.kernel.accessAllowed ? 'block' : 'none';\n",
              "\n",
              "        async function convertToInteractive(key) {\n",
              "          const element = document.querySelector('#df-8c578b3b-cb56-4781-99f4-8772a79c015f');\n",
              "          const dataTable =\n",
              "            await google.colab.kernel.invokeFunction('convertToInteractive',\n",
              "                                                     [key], {});\n",
              "          if (!dataTable) return;\n",
              "\n",
              "          const docLinkHtml = 'Like what you see? Visit the ' +\n",
              "            '<a target=\"_blank\" href=https://colab.research.google.com/notebooks/data_table.ipynb>data table notebook</a>'\n",
              "            + ' to learn more about interactive tables.';\n",
              "          element.innerHTML = '';\n",
              "          dataTable['output_type'] = 'display_data';\n",
              "          await google.colab.output.renderOutput(dataTable, element);\n",
              "          const docLink = document.createElement('div');\n",
              "          docLink.innerHTML = docLinkHtml;\n",
              "          element.appendChild(docLink);\n",
              "        }\n",
              "      </script>\n",
              "    </div>\n",
              "  </div>\n",
              "  "
            ]
          },
          "metadata": {},
          "execution_count": 13
        }
      ]
    },
    {
      "cell_type": "markdown",
      "source": [
        "## 2.&nbsp; `.groupby()` multiple features\n",
        "It's also possible to `.groupby()` multiple categories. Let's see how many products we sold each month."
      ],
      "metadata": {
        "id": "VtQqcHUj2bxn"
      }
    },
    {
      "cell_type": "code",
      "source": [
        "(\n",
        "    ol_df\n",
        "    .groupby([ol_df[\"date\"].dt.year,\n",
        "              ol_df[\"date\"].dt.month])[\"product_quantity\"]\n",
        "    .sum()\n",
        " )"
      ],
      "metadata": {
        "id": "Gx3zB61ZX_NM",
        "outputId": "44469738-94cb-4964-9f09-0df78c7c0130",
        "colab": {
          "base_uri": "https://localhost:8080/"
        }
      },
      "execution_count": null,
      "outputs": [
        {
          "output_type": "execute_result",
          "data": {
            "text/plain": [
              "date  date\n",
              "2017  1       22363\n",
              "      2       14616\n",
              "      3       12443\n",
              "      4       13781\n",
              "      5       11665\n",
              "      6       11221\n",
              "      7       15347\n",
              "      8       11530\n",
              "      9       12213\n",
              "      10      15387\n",
              "      11      33082\n",
              "      12      24455\n",
              "2018  1       23810\n",
              "      2       15831\n",
              "      3        8067\n",
              "Name: product_quantity, dtype: int64"
            ]
          },
          "metadata": {},
          "execution_count": 14
        }
      ]
    },
    {
      "cell_type": "markdown",
      "source": [
        "Looks like the end of the year and the begining of the year are the busiest times."
      ],
      "metadata": {
        "id": "5eCJ-0YCqdMH"
      }
    },
    {
      "cell_type": "markdown",
      "source": [
        "### 1.4.&nbsp; `.groupby()` aggregate plotting\n",
        "It's also possible to quickly plot aggregates with `.groupby()`, which can help us better understand the data. Let's plot the above values showing how many products we sold each month."
      ],
      "metadata": {
        "id": "fhSTALCdHNs4"
      }
    },
    {
      "cell_type": "code",
      "source": [
        "(\n",
        "    ol_df.groupby([ol_df[\"date\"].dt.year,\n",
        "                   ol_df[\"date\"].dt.month])[\"product_quantity\"]\n",
        "    .sum()\n",
        "    .plot(figsize=(16, 12))\n",
        ");"
      ],
      "metadata": {
        "id": "fYcSi8rbvqkc",
        "outputId": "d68dca37-f64f-43ef-96b9-1e6e982b8f94",
        "colab": {
          "base_uri": "https://localhost:8080/",
          "height": 714
        }
      },
      "execution_count": null,
      "outputs": [
        {
          "output_type": "display_data",
          "data": {
            "text/plain": [
              "<Figure size 1152x864 with 1 Axes>"
            ],
            "image/png": "[encoded data removed]"
          },
          "metadata": {
            "needs_background": "light"
          }
        }
      ]
    },
    {
      "cell_type": "markdown",
      "source": [
        "## 3.&nbsp; `.resample()`\n",
        "\n",
        "Resampling allows us to easily aggregate time series data. When using `.resample()`, we have to define:\n",
        "- The frequency of time for which to group the data (e.g. 5 minutely, hourly, daily...) expressed as a \"frequency string\" (`\"W\"` for weekly, `\"M\"` for monthly...). Find all available frequency strings [here](https://pandas.pydata.org/pandas-docs/stable/user_guide/timeseries.html#dateoffset-objects).\n",
        "- The column with the dates group by needs to be passed to the `on` parameter (unless you want group by the index).\n",
        "- The aggregate function (`sum()`, `count()`, `mean()`...)\n",
        "- The numerical column/s to aggregate.\n",
        "\n",
        "With this we can easily recreate our groupby above, where we looked at the amount of products sold each month. The date displayed is the last day of the given month."
      ],
      "metadata": {
        "id": "6LDe4vd8wOJS"
      }
    },
    {
      "cell_type": "code",
      "source": [
        "(\n",
        "    ol_df\n",
        "    .resample(\"M\", on=\"date\")[\"product_quantity\"]\n",
        "    .sum()\n",
        "    .sort_values(ascending=False)\n",
        ")"
      ],
      "metadata": {
        "id": "R8hb5n2zwfct",
        "outputId": "07be4545-faee-4e85-e2b4-605008b61b1e",
        "colab": {
          "base_uri": "https://localhost:8080/"
        }
      },
      "execution_count": null,
      "outputs": [
        {
          "output_type": "execute_result",
          "data": {
            "text/plain": [
              "date\n",
              "2017-11-30    33082\n",
              "2017-12-31    24455\n",
              "2018-01-31    23810\n",
              "2017-01-31    22363\n",
              "2018-02-28    15831\n",
              "2017-10-31    15387\n",
              "2017-07-31    15347\n",
              "2017-02-28    14616\n",
              "2017-04-30    13781\n",
              "2017-03-31    12443\n",
              "2017-09-30    12213\n",
              "2017-05-31    11665\n",
              "2017-08-31    11530\n",
              "2017-06-30    11221\n",
              "2018-03-31     8067\n",
              "Name: product_quantity, dtype: int64"
            ]
          },
          "metadata": {},
          "execution_count": 16
        }
      ]
    },
    {
      "cell_type": "markdown",
      "source": [
        "We can also quickly plot a daily graph for the amount of products sold."
      ],
      "metadata": {
        "id": "HL0K2INaC5TC"
      }
    },
    {
      "cell_type": "code",
      "source": [
        "(\n",
        "    ol_df\n",
        "    .resample(\"D\", on=\"date\")\n",
        "    .sum()[\"product_quantity\"]\n",
        "    .plot(figsize=(12, 8))\n",
        " );"
      ],
      "metadata": {
        "id": "mJylW2glwdge",
        "outputId": "11fea32d-4d94-412a-a1ef-45c2c9ce5106",
        "colab": {
          "base_uri": "https://localhost:8080/",
          "height": 508
        }
      },
      "execution_count": null,
      "outputs": [
        {
          "output_type": "display_data",
          "data": {
            "text/plain": [
              "<Figure size 864x576 with 1 Axes>"
            ],
            "image/png": "[encoded data removed]"
          },
          "metadata": {
            "needs_background": "light"
          }
        }
      ]
    },
    {
      "cell_type": "markdown",
      "source": [
        "We can create the same graph as above using `.groupby()`, it just takes a little more code"
      ],
      "metadata": {
        "id": "WFFTrGagraNu"
      }
    },
    {
      "cell_type": "code",
      "source": [
        "(\n",
        "    ol_df\n",
        "    .groupby([ol_df.date.dt.year,\n",
        "              ol_df.date.dt.month,\n",
        "              ol_df.date.dt.day])[\"product_quantity\"]\n",
        "    .sum()\n",
        "    .plot(figsize=(12, 8))\n",
        " );"
      ],
      "metadata": {
        "id": "L7LQ7w6Qrlnb",
        "outputId": "4a565108-6c42-4deb-e443-f38b070d90fd",
        "colab": {
          "base_uri": "https://localhost:8080/",
          "height": 497
        }
      },
      "execution_count": null,
      "outputs": [
        {
          "output_type": "display_data",
          "data": {
            "text/plain": [
              "<Figure size 864x576 with 1 Axes>"
            ],
            "image/png": "[encoded data removed]"
          },
          "metadata": {
            "needs_background": "light"
          }
        }
      ]
    },
    {
      "cell_type": "markdown",
      "source": [
        "As you can see from the x-axis of the two charts above, `.resample()` works a little more inuitvely when you want to group by datetimes. This isn't to say that you cannot use `.groupby()` with datetimes, of course you can. `.resample()` just provides us with a little extra flexibility to group datetime by specific groups. For example, you can create `.resample()` input strings such as `2H20min` for groups of 2 hours 20minutes, `3min` for groups of 3 minutes, `1D3H` for 1 day 3hours etc..."
      ],
      "metadata": {
        "id": "zMBquCgarx0E"
      }
    },
    {
      "cell_type": "markdown",
      "source": [
        "# Challenges"
      ],
      "metadata": {
        "id": "m050CtFNk0aG"
      }
    },
    {
      "cell_type": "markdown",
      "source": [
        "## Challenge 1. What are the top 8 most sold products?"
      ],
      "metadata": {
        "id": "qzK9J3B2mWyT"
      }
    },
    {
      "cell_type": "code",
      "source": [
        "# your code here"
      ],
      "metadata": {
        "id": "ykMv1QQN5Ujx"
      },
      "execution_count": null,
      "outputs": []
    },
    {
      "cell_type": "code",
      "source": [
        "ol_df.groupby('sku')['product_quantity'].sum().nlargest(8)"
      ],
      "metadata": {
        "colab": {
          "base_uri": "https://localhost:8080/"
        },
        "id": "vMPxgL4JgN7W",
        "outputId": "b5b03ebf-d068-4235-993d-8565f347f50a"
      },
      "execution_count": 16,
      "outputs": [
        {
          "output_type": "execute_result",
          "data": {
            "text/plain": [
              "sku\n",
              "APP1190    5576\n",
              "APP0698    2337\n",
              "WDT0183    1828\n",
              "APP1922    1663\n",
              "APP0927    1618\n",
              "SAM0074    1346\n",
              "APP1970    1182\n",
              "APP1221    1131\n",
              "Name: product_quantity, dtype: int64"
            ]
          },
          "metadata": {},
          "execution_count": 16
        }
      ]
    },
    {
      "cell_type": "markdown",
      "source": [
        "## Challenge 2. How many products did each of the 5 largest orders contain?"
      ],
      "metadata": {
        "id": "PXYMOnwWyfkf"
      }
    },
    {
      "cell_type": "code",
      "source": [
        "# your code here"
      ],
      "metadata": {
        "id": "EStMw8mQ5hkz"
      },
      "execution_count": 17,
      "outputs": []
    },
    {
      "cell_type": "code",
      "source": [
        "(\n",
        "    ol_df\n",
        "    .groupby(\"id_order\")[\"product_quantity\"].count()\n",
        "    .nlargest(5)\n",
        ")"
      ],
      "metadata": {
        "colab": {
          "base_uri": "https://localhost:8080/"
        },
        "id": "F1vESpk3gDfZ",
        "outputId": "bec8d35e-7eb4-4bf9-b061-8ce2ee318b2f"
      },
      "execution_count": 21,
      "outputs": [
        {
          "output_type": "execute_result",
          "data": {
            "text/plain": [
              "id_order\n",
              "428186    32\n",
              "323269    17\n",
              "406616    17\n",
              "319417    15\n",
              "332942    15\n",
              "Name: product_quantity, dtype: int64"
            ]
          },
          "metadata": {},
          "execution_count": 21
        }
      ]
    },
    {
      "cell_type": "markdown",
      "source": [
        "## Challenge 3. We want to see how busy the days of the week are to know when we need more staff. Rank the days of the week from busiest to least busiest.\n",
        "Bonus points for using your pandas plotting skills."
      ],
      "metadata": {
        "id": "4LhlPkykEOZT"
      }
    },
    {
      "cell_type": "code",
      "source": [
        "# your code here"
      ],
      "metadata": {
        "id": "vJFw9Tmrvswv"
      },
      "execution_count": null,
      "outputs": []
    },
    {
      "cell_type": "code",
      "source": [
        "ol_df[\"day_of_week\"] = ol_df[\"date\"].dt.day_name()"
      ],
      "metadata": {
        "id": "xy9AsQ_oggvv"
      },
      "execution_count": 24,
      "outputs": []
    },
    {
      "cell_type": "code",
      "source": [
        "(\n",
        "    ol_df\n",
        "    .groupby(\"day_of_week\")[\"product_quantity\"]\n",
        "    .sum()\n",
        "    .sort_values(ascending=False)\n",
        ")"
      ],
      "metadata": {
        "colab": {
          "base_uri": "https://localhost:8080/"
        },
        "id": "bmD5iYmaihco",
        "outputId": "e8b57509-f331-4b1f-aeb0-9d3530b0c179"
      },
      "execution_count": 25,
      "outputs": [
        {
          "output_type": "execute_result",
          "data": {
            "text/plain": [
              "day_of_week\n",
              "Monday       43886\n",
              "Wednesday    39506\n",
              "Friday       39488\n",
              "Tuesday      38656\n",
              "Thursday     34867\n",
              "Sunday       26680\n",
              "Saturday     22728\n",
              "Name: product_quantity, dtype: int64"
            ]
          },
          "metadata": {},
          "execution_count": 25
        }
      ]
    },
    {
      "cell_type": "code",
      "source": [
        "(\n",
        "    ol_df\n",
        "    .groupby([ol_df.date.dt.weekday])[\"product_quantity\"]\n",
        "    .sum()\n",
        "    .plot.bar()\n",
        " );"
      ],
      "metadata": {
        "colab": {
          "base_uri": "https://localhost:8080/",
          "height": 444
        },
        "id": "jrlz0SGki3kB",
        "outputId": "0fcfc5e0-a817-4b29-dd12-d8b77c1316f8"
      },
      "execution_count": 26,
      "outputs": [
        {
          "output_type": "display_data",
          "data": {
            "text/plain": [
              "<Figure size 640x480 with 1 Axes>"
            ],
            "image/png": "[encoded data removed]"
          },
          "metadata": {}
        }
      ]
    },
    {
      "cell_type": "markdown",
      "source": [
        "## Challenge 4. Which brands sell the most products?"
      ],
      "metadata": {
        "id": "lO2HC3vYzBB3"
      }
    },
    {
      "cell_type": "code",
      "source": [
        "# your code here"
      ],
      "metadata": {
        "id": "0lPd1Y_ZIhkD"
      },
      "execution_count": null,
      "outputs": []
    },
    {
      "cell_type": "markdown",
      "source": [
        "## Challenge 5. Plot a line chart for the amount of orders each hour of November 2017"
      ],
      "metadata": {
        "id": "Nwvy0aVmQl_v"
      }
    },
    {
      "cell_type": "code",
      "source": [
        "# your code here"
      ],
      "metadata": {
        "id": "GTYN3cYAIjSr"
      },
      "execution_count": null,
      "outputs": []
    }
  ]
}