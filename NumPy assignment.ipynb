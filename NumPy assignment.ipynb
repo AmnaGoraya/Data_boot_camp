{
 "cells": [
  {
   "cell_type": "code",
   "execution_count": 1,
   "id": "778223a7",
   "metadata": {},
   "outputs": [
    {
     "name": "stdout",
     "output_type": "stream",
     "text": [
      "[0. 0. 0. 0. 0. 0. 0. 0. 0. 0.]\n"
     ]
    }
   ],
   "source": [
    "#1. \n",
    "import numpy as np\n",
    "\n",
    "zero_array = np.zeros(10)\n",
    "\n",
    "print(zero_array)"
   ]
  },
  {
   "cell_type": "code",
   "execution_count": 15,
   "id": "545cbd4b",
   "metadata": {},
   "outputs": [
    {
     "name": "stdout",
     "output_type": "stream",
     "text": [
      "[10. 11. 12. 13. 14. 15. 16. 17. 18. 19. 20. 21. 22. 23. 24. 25. 26. 27.\n",
      " 28. 29. 30. 31. 32. 33. 34. 35. 36. 37. 38. 39. 40. 41. 42. 43. 44. 45.\n",
      " 46. 47. 48. 49.]\n"
     ]
    }
   ],
   "source": [
    "#2.\n",
    "arry_rannge10to49 = np.arange (10,50)\n",
    "\n",
    "array_type = arry_rannge10to49.astype(float)\n",
    "\n",
    "print(array_type)"
   ]
  },
  {
   "cell_type": "code",
   "execution_count": 5,
   "id": "c943603b",
   "metadata": {},
   "outputs": [
    {
     "name": "stdout",
     "output_type": "stream",
     "text": [
      "[[1 1]\n",
      " [1 1]]\n"
     ]
    }
   ],
   "source": [
    "#3.\n",
    "matrix_2x2_ones= np.ones((2,2), dtype= int)\n",
    "\n",
    "print(matrix_2x2_ones)"
   ]
  },
  {
   "cell_type": "code",
   "execution_count": 6,
   "id": "dbddff3c",
   "metadata": {},
   "outputs": [
    {
     "name": "stdout",
     "output_type": "stream",
     "text": [
      "[[1 1]\n",
      " [1 1]\n",
      " [1 1]]\n"
     ]
    }
   ],
   "source": [
    "#4.\n",
    "matrix_3x2_ones= np.ones((3,2), dtype= int)\n",
    "\n",
    "print(matrix_3x2_ones)"
   ]
  },
  {
   "cell_type": "code",
   "execution_count": 7,
   "id": "6c42e87a",
   "metadata": {},
   "outputs": [
    {
     "name": "stdout",
     "output_type": "stream",
     "text": [
      "[[1 1 1]\n",
      " [1 1 1]]\n"
     ]
    }
   ],
   "source": [
    "#5.\n",
    "X = np.array([[1, 2, 3], [4, 5, 6]])\n",
    "\n",
    "same_like_X = np.ones_like(X)\n",
    "\n",
    "print(same_like_X)"
   ]
  },
  {
   "cell_type": "code",
   "execution_count": 8,
   "id": "a4add523",
   "metadata": {},
   "outputs": [
    {
     "name": "stdout",
     "output_type": "stream",
     "text": [
      "[[0 0 0]\n",
      " [0 0 0]]\n"
     ]
    }
   ],
   "source": [
    "#6.\n",
    "X = np.array([[1, 2, 3], [4, 5, 6]])\n",
    "\n",
    "same_like_X = np.zeros_like(X)\n",
    "\n",
    "print(same_like_X)"
   ]
  },
  {
   "cell_type": "code",
   "execution_count": 17,
   "id": "05e5374d",
   "metadata": {},
   "outputs": [
    {
     "name": "stdout",
     "output_type": "stream",
     "text": [
      "[[5 5 5 5]\n",
      " [5 5 5 5]\n",
      " [5 5 5 5]\n",
      " [5 5 5 5]]\n"
     ]
    }
   ],
   "source": [
    "#7.\n",
    "matrix_4x4_fives = np.full((4, 4), 5, dtype=int)\n",
    "\n",
    "print(matrix_4x4_fives)"
   ]
  },
  {
   "cell_type": "code",
   "execution_count": 10,
   "id": "0a3acb05",
   "metadata": {},
   "outputs": [
    {
     "name": "stdout",
     "output_type": "stream",
     "text": [
      "[[7 7 7]\n",
      " [7 7 7]]\n"
     ]
    }
   ],
   "source": [
    "#8.\n",
    "X = np.array([[1, 2, 3], [4, 5, 6]])\n",
    "\n",
    "sevens_like_X = np.full_like(X, 7)\n",
    "\n",
    "print(sevens_like_X)"
   ]
  },
  {
   "cell_type": "code",
   "execution_count": 11,
   "id": "0fee5a0d",
   "metadata": {},
   "outputs": [
    {
     "name": "stdout",
     "output_type": "stream",
     "text": [
      "[[1. 0. 0.]\n",
      " [0. 1. 0.]\n",
      " [0. 0. 1.]]\n"
     ]
    }
   ],
   "source": [
    "#9.\n",
    "\n",
    "identity_matrix = np.eye(3)\n",
    "\n",
    "print(identity_matrix)"
   ]
  },
  {
   "cell_type": "code",
   "execution_count": 12,
   "id": "08e28dd2",
   "metadata": {},
   "outputs": [
    {
     "name": "stdout",
     "output_type": "stream",
     "text": [
      "[4 5 3]\n"
     ]
    }
   ],
   "source": [
    "#10.\n",
    "\n",
    "random_array = np.random.randint(1, 11, size=3)\n",
    "\n",
    "print(random_array)"
   ]
  },
  {
   "cell_type": "code",
   "execution_count": 13,
   "id": "87f1373e",
   "metadata": {},
   "outputs": [
    {
     "name": "stdout",
     "output_type": "stream",
     "text": [
      "[[[0.7870164  0.2969673  0.0087946 ]\n",
      "  [0.61302265 0.16514111 0.4043614 ]\n",
      "  [0.57625989 0.0723541  0.89399304]]\n",
      "\n",
      " [[0.79987155 0.17096349 0.65734698]\n",
      "  [0.64081307 0.14174406 0.27125854]\n",
      "  [0.33392486 0.40850645 0.89363251]]\n",
      "\n",
      " [[0.71774991 0.85304039 0.75225322]\n",
      "  [0.29309723 0.72618062 0.44232273]\n",
      "  [0.401163   0.72437603 0.51715689]]]\n"
     ]
    }
   ],
   "source": [
    "#11.\n",
    "\n",
    "random_float_matrix = np.random.rand(3, 3, 3)\n",
    "\n",
    "print(random_float_matrix)"
   ]
  },
  {
   "cell_type": "code",
   "execution_count": 14,
   "id": "24881baa",
   "metadata": {},
   "outputs": [
    {
     "name": "stdout",
     "output_type": "stream",
     "text": [
      "[ 1  2  3  4  5  6  7  8  9 10]\n"
     ]
    }
   ],
   "source": [
    "#12.\n",
    "array_1_to_10 = np.arange(1, 11)\n",
    "\n",
    "print(array_1_to_10)"
   ]
  },
  {
   "cell_type": "code",
   "execution_count": 20,
   "id": "9e2f1226",
   "metadata": {},
   "outputs": [
    {
     "name": "stdout",
     "output_type": "stream",
     "text": [
      "[1 3 5 7 9]\n"
     ]
    }
   ],
   "source": [
    "#13.\n",
    "array_odd_numbers = np.arange(1, 11, step=2)\n",
    "\n",
    "print(array_odd_numbers)"
   ]
  },
  {
   "cell_type": "code",
   "execution_count": 19,
   "id": "14b490a1",
   "metadata": {},
   "outputs": [
    {
     "name": "stdout",
     "output_type": "stream",
     "text": [
      "[10  9  8  7  6  5  4  3  2  1]\n"
     ]
    }
   ],
   "source": [
    "#14.\n",
    "array_descending = np.arange(10, 0, -1)\n",
    "\n",
    "print(array_descending)"
   ]
  },
  {
   "cell_type": "code",
   "execution_count": 21,
   "id": "09d406b9",
   "metadata": {},
   "outputs": [
    {
     "name": "stdout",
     "output_type": "stream",
     "text": [
      "[[0 1 2]\n",
      " [3 4 5]\n",
      " [6 7 8]]\n"
     ]
    }
   ],
   "source": [
    "#15. \n",
    "\n",
    "array_0_to_8 = np.arange(9)\n",
    "\n",
    "# Reshape the 1-dimensional array into a 3x3 matrix\n",
    "matrix_3x3 = array_0_to_8.reshape(3, 3)\n",
    "\n",
    "print(matrix_3x3)"
   ]
  },
  {
   "cell_type": "code",
   "execution_count": 22,
   "id": "11b464d8",
   "metadata": {},
   "outputs": [
    {
     "name": "stdout",
     "output_type": "stream",
     "text": [
      "A\n"
     ]
    }
   ],
   "source": [
    "#Array Indexing \n",
    "X = np.array(['A', 'B', 'C', 'D', 'E'])\n",
    "\n",
    "# Access the first element of the array\n",
    "first_element = X[0]\n",
    "\n",
    "print(first_element)"
   ]
  },
  {
   "cell_type": "code",
   "execution_count": 23,
   "id": "e39d0b4f",
   "metadata": {},
   "outputs": [
    {
     "name": "stdout",
     "output_type": "stream",
     "text": [
      "E\n"
     ]
    }
   ],
   "source": [
    "X = np.array(['A', 'B', 'C', 'D', 'E'])\n",
    "\n",
    "# Access the last element of the array\n",
    "last_element = X[-1]\n",
    "\n",
    "print(last_element)"
   ]
  },
  {
   "cell_type": "code",
   "execution_count": 24,
   "id": "e413ffac",
   "metadata": {},
   "outputs": [
    {
     "name": "stdout",
     "output_type": "stream",
     "text": [
      "['A' 'B' 'C']\n"
     ]
    }
   ],
   "source": [
    "X = np.array(['A', 'B', 'C', 'D', 'E'])\n",
    "\n",
    "# Access the first three elements of the array\n",
    "first_three_elements = X[:3]\n",
    "\n",
    "print(first_three_elements)"
   ]
  },
  {
   "cell_type": "code",
   "execution_count": 25,
   "id": "3114ba93",
   "metadata": {},
   "outputs": [
    {
     "name": "stdout",
     "output_type": "stream",
     "text": [
      "['B' 'C' 'D']\n"
     ]
    }
   ],
   "source": [
    "X = np.array(['A', 'B', 'C', 'D', 'E'])\n",
    "\n",
    "# Show all middle elements (excluding the first and last)\n",
    "middle_elements = X[1:-1]\n",
    "\n",
    "print(middle_elements)"
   ]
  },
  {
   "cell_type": "code",
   "execution_count": 26,
   "id": "7e016646",
   "metadata": {},
   "outputs": [
    {
     "name": "stdout",
     "output_type": "stream",
     "text": [
      "['E' 'D' 'C' 'B' 'A']\n"
     ]
    }
   ],
   "source": [
    "X = np.array(['A', 'B', 'C', 'D', 'E'])\n",
    "\n",
    "# Show the elements in reverse position\n",
    "reverse_elements = X[::-1]\n",
    "\n",
    "print(reverse_elements)"
   ]
  },
  {
   "cell_type": "code",
   "execution_count": 27,
   "id": "7df870fe",
   "metadata": {},
   "outputs": [
    {
     "name": "stdout",
     "output_type": "stream",
     "text": [
      "[1 2 3 4]\n"
     ]
    }
   ],
   "source": [
    "X = np.array([[1, 2, 3, 4],\n",
    "              [5, 6, 7, 8],\n",
    "              [9, 10, 11, 12],\n",
    "              [13, 14, 15, 16]])\n",
    "\n",
    "# Show the elements of the first row\n",
    "first_row_elements = X[0, :]\n",
    "\n",
    "print(first_row_elements)"
   ]
  },
  {
   "cell_type": "code",
   "execution_count": 28,
   "id": "290f33b0",
   "metadata": {},
   "outputs": [
    {
     "name": "stdout",
     "output_type": "stream",
     "text": [
      "[13 14 15 16]\n"
     ]
    }
   ],
   "source": [
    "X = np.array([[1, 2, 3, 4],\n",
    "              [5, 6, 7, 8],\n",
    "              [9, 10, 11, 12],\n",
    "              [13, 14, 15, 16]])\n",
    "\n",
    "# Show the elements of the last row\n",
    "last_row_elements = X[-1, :]\n",
    "\n",
    "print(last_row_elements)"
   ]
  },
  {
   "cell_type": "code",
   "execution_count": 29,
   "id": "a3edb854",
   "metadata": {},
   "outputs": [
    {
     "name": "stdout",
     "output_type": "stream",
     "text": [
      "1\n"
     ]
    }
   ],
   "source": [
    "X = np.array([[1, 2, 3, 4],\n",
    "              [5, 6, 7, 8],\n",
    "              [9, 10, 11, 12],\n",
    "              [13, 14, 15, 16]])\n",
    "\n",
    "# Show the first element of the first row\n",
    "first_element_first_row = X[0, 0]\n",
    "\n",
    "print(first_element_first_row)"
   ]
  },
  {
   "cell_type": "code",
   "execution_count": 30,
   "id": "32a0c473",
   "metadata": {},
   "outputs": [
    {
     "name": "stdout",
     "output_type": "stream",
     "text": [
      "16\n"
     ]
    }
   ],
   "source": [
    "X = np.array([[1, 2, 3, 4],\n",
    "              [5, 6, 7, 8],\n",
    "              [9, 10, 11, 12],\n",
    "              [13, 14, 15, 16]])\n",
    "\n",
    "# Show the last element of the last row\n",
    "last_element_last_row = X[-1, -1]\n",
    "\n",
    "print(last_element_last_row)"
   ]
  },
  {
   "cell_type": "code",
   "execution_count": null,
   "id": "506f5575",
   "metadata": {},
   "outputs": [],
   "source": [
    "X = np.array([[1, 2, 3, 4],\n",
    "              [5, 6, 7, 8],\n",
    "              [9, 10, 11, 12],\n",
    "              [13, 14, 15, 16]])\n",
    "\n",
    "# Show the first two elements on the first two rows\n",
    "first_two_elements_first_two_rows = X[:2, :2]\n",
    "\n",
    "print(first_two_elements_first_two_rows)"
   ]
  },
  {
   "cell_type": "code",
   "execution_count": 31,
   "id": "2c3250af",
   "metadata": {},
   "outputs": [
    {
     "name": "stdout",
     "output_type": "stream",
     "text": [
      "[[11 12]\n",
      " [15 16]]\n"
     ]
    }
   ],
   "source": [
    "X = np.array([[1, 2, 3, 4],\n",
    "              [5, 6, 7, 8],\n",
    "              [9, 10, 11, 12],\n",
    "              [13, 14, 15, 16]])\n",
    "\n",
    "# Show the last two elements on the last two rows\n",
    "last_two_elements_last_two_rows = X[-2:, -2:]\n",
    "\n",
    "print(last_two_elements_last_two_rows)"
   ]
  },
  {
   "cell_type": "code",
   "execution_count": 32,
   "id": "234d9f3b",
   "metadata": {},
   "outputs": [
    {
     "name": "stdout",
     "output_type": "stream",
     "text": [
      "[-5. -3.  0. 10. 40.]\n"
     ]
    }
   ],
   "source": [
    "#Array manipulation\n",
    "X = np.array([-5, -3, 0, 10, 40])\n",
    "\n",
    "# Convert the array to float\n",
    "X_float = X.astype(float)\n",
    "\n",
    "print(X_float)"
   ]
  },
  {
   "cell_type": "code",
   "execution_count": 33,
   "id": "58d57c6d",
   "metadata": {},
   "outputs": [
    {
     "name": "stdout",
     "output_type": "stream",
     "text": [
      "[5 4 3 2 1]\n"
     ]
    }
   ],
   "source": [
    "X = np.array([1, 2, 3, 4, 5])\n",
    "\n",
    "# Reverse the array through indexing\n",
    "reversed_X = X[::-1]\n",
    "\n",
    "print(reversed_X)"
   ]
  },
  {
   "cell_type": "code",
   "execution_count": 34,
   "id": "02e40ead",
   "metadata": {},
   "outputs": [
    {
     "name": "stdout",
     "output_type": "stream",
     "text": [
      "[0. 0. 0. 0. 1. 0. 0. 0. 0. 0.]\n"
     ]
    }
   ],
   "source": [
    "X = np.zeros(10)\n",
    "\n",
    "# Set the fifth element to 1\n",
    "X[4] = 1\n",
    "\n",
    "print(X)"
   ]
  },
  {
   "cell_type": "code",
   "execution_count": 35,
   "id": "8cc9827d",
   "metadata": {},
   "outputs": [
    {
     "name": "stdout",
     "output_type": "stream",
     "text": [
      "[[ 1  2  3  4]\n",
      " [ 5  6  7  8]\n",
      " [ 9 10 11 12]\n",
      " [ 1  1  1  1]]\n"
     ]
    }
   ],
   "source": [
    "X = np.array([[1, 2, 3, 4],\n",
    "              [5, 6, 7, 8],\n",
    "              [9, 10, 11, 12],\n",
    "              [13, 14, 15, 16]])\n",
    "\n",
    "# Change the last row to have all elements equal to 1\n",
    "X[-1, :] = 1\n",
    "\n",
    "print(X)"
   ]
  },
  {
   "cell_type": "code",
   "execution_count": 36,
   "id": "67c3e7c3",
   "metadata": {},
   "outputs": [
    {
     "name": "stdout",
     "output_type": "stream",
     "text": [
      "[[ 6  7  8  9]\n",
      " [10 11 12 13]\n",
      " [14 15 16 17]\n",
      " [18 19 20 21]]\n"
     ]
    }
   ],
   "source": [
    "X = np.array([[1, 2, 3, 4],\n",
    "              [5, 6, 7, 8],\n",
    "              [9, 10, 11, 12],\n",
    "              [13, 14, 15, 16]])\n",
    "\n",
    "# Add 5 to every element\n",
    "X_plus_5 = X + 5\n",
    "\n",
    "print(X_plus_5)"
   ]
  },
  {
   "cell_type": "code",
   "execution_count": null,
   "id": "3a305b4d",
   "metadata": {},
   "outputs": [],
   "source": []
  }
 ],
 "metadata": {
  "kernelspec": {
   "display_name": "Python 3 (ipykernel)",
   "language": "python",
   "name": "python3"
  },
  "language_info": {
   "codemirror_mode": {
    "name": "ipython",
    "version": 3
   },
   "file_extension": ".py",
   "mimetype": "text/x-python",
   "name": "python",
   "nbconvert_exporter": "python",
   "pygments_lexer": "ipython3",
   "version": "3.11.3"
  }
 },
 "nbformat": 4,
 "nbformat_minor": 5
}
